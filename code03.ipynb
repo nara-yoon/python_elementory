{
 "cells": [
  {
   "cell_type": "markdown",
   "metadata": {},
   "source": [
    "## Modules & Library\n",
    "> 수레를 다시 발명하지 말것!\n",
    "\n",
    "- 모듈 : 모듈은 이미 다른 파이썬 스크립트(.py) 파일에 정의된 파이썬 코드들을 의미합니다.\n",
    "- 라이브러리 : 여러개의 모듈의 집합체"
   ]
  },
  {
   "cell_type": "code",
   "execution_count": 1,
   "metadata": {},
   "outputs": [],
   "source": [
    "# 아래의 writefile은 ipython(interactive python)의 셀에서 파일을 작성하게 하는 매직명령어이다.\n",
    "# 우리는 노트북으로 데이터를 분석할 일이 많을 겁니다. 하지만, 모든 코드들, 함수, 클래스 등을 하나의 ipynb에 넣어 놓으면 코드가 복잡해질 수 있습니다.\n",
    "# 그렇기 때문에 .py로 끝나는 파이썬 스크립트를 이용해서 거기에 일부 코드를 옮겨놓은 모듈을 만들 수 있습니다."
   ]
  },
  {
   "cell_type": "code",
   "execution_count": 2,
   "metadata": {},
   "outputs": [
    {
     "name": "stdout",
     "output_type": "stream",
     "text": [
      "Overwriting mymodule.py\n"
     ]
    }
   ],
   "source": [
    "%%writefile mymodule.py\n",
    "\n",
    "def read_this(text) :\n",
    "    '''\n",
    "    이 함수는 text를 읽어와서 프린트합니다.\n",
    "    '''\n",
    "    print(text)\n",
    "    return "
   ]
  },
  {
   "cell_type": "code",
   "execution_count": 4,
   "metadata": {},
   "outputs": [
    {
     "name": "stdout",
     "output_type": "stream",
     "text": [
      "글을 썼습니다.\n"
     ]
    }
   ],
   "source": [
    "# 모듈을 읽어오는 방법 \n",
    "# from 혹은 import 를 이용합니다. import는 .py 파일의 이름입니다.\n",
    "\n",
    "import mymodule\n",
    "\n",
    "mymodule.read_this('글을 썼습니다.')"
   ]
  },
  {
   "cell_type": "code",
   "execution_count": 5,
   "metadata": {},
   "outputs": [
    {
     "name": "stdout",
     "output_type": "stream",
     "text": [
      "글을 두번째로 작성해봤습니다.\n"
     ]
    }
   ],
   "source": [
    "# from을 이용해서 mymodule의 read_this를 불러올 수도 있습니다.\n",
    "\n",
    "from mymodule import read_this\n",
    "\n",
    "read_this('글을 두번째로 작성해봤습니다.')"
   ]
  },
  {
   "cell_type": "code",
   "execution_count": 16,
   "metadata": {},
   "outputs": [],
   "source": [
    "# 위에서 배운 것을 토대로 mymodule.py라는 스크립트를 새로 작성해봅시다.\n",
    "# 우리가 이번에 정의하려고 하는 것은 class입니다.\n",
    "# Person이라고 하는 class를 기본 attribute로 name, age를 지니고\n",
    "# hello 메서드를 만들어서 호출했을 때, \"안녕하세요, 저는 <이름>이고 <나이>살입니다.\"를 프린트하도록 \n",
    "# 코드를 한번 짜봅시다."
   ]
  },
  {
   "cell_type": "code",
   "execution_count": 6,
   "metadata": {},
   "outputs": [
    {
     "name": "stdout",
     "output_type": "stream",
     "text": [
      "Overwriting mymodule.py\n"
     ]
    }
   ],
   "source": [
    "%%writefile mymodule.py\n",
    "\n",
    "class Person :\n",
    "\n",
    "    def __init__(self, name, age) :\n",
    "        self.name = name\n",
    "        self.age = age\n",
    "    \n",
    "    def hello(self) :\n",
    "        print(f\"안녕하세요, 저는 {self.name}이고 {self.age}살입니다.\")"
   ]
  },
  {
   "cell_type": "code",
   "execution_count": 21,
   "metadata": {},
   "outputs": [],
   "source": [
    "# 이제 라이브러리에 대해서 알아봅시다. 라이브러리는 여러 모듈들의 집합이라고 했었습니다."
   ]
  },
  {
   "cell_type": "code",
   "execution_count": 7,
   "metadata": {},
   "outputs": [
    {
     "name": "stdout",
     "output_type": "stream",
     "text": [
      "Overwriting mylibrary/firstfile.py\n"
     ]
    }
   ],
   "source": [
    "%%writefile mylibrary/firstfile.py\n",
    "\n",
    "def myfunction1() :\n",
    "    print(\"첫번째 함수\")\n",
    "    return "
   ]
  },
  {
   "cell_type": "code",
   "execution_count": 8,
   "metadata": {},
   "outputs": [
    {
     "name": "stdout",
     "output_type": "stream",
     "text": [
      "Overwriting mylibrary/secondfile.py\n"
     ]
    }
   ],
   "source": [
    "%%writefile mylibrary/secondfile.py\n",
    "\n",
    "def myfunction2() :\n",
    "    print(\"두번째 함수\")\n",
    "    return "
   ]
  },
  {
   "cell_type": "code",
   "execution_count": 9,
   "metadata": {},
   "outputs": [
    {
     "name": "stdout",
     "output_type": "stream",
     "text": [
      "첫번째 함수\n"
     ]
    }
   ],
   "source": [
    "# 라이브러리를 불러와보겠습니다.\n",
    "# 불러오는 방식은 모듈을 읽어오는 방식과 비슷합니다.\n",
    "\n",
    "from mylibrary import firstfile, secondfile\n",
    "\n",
    "firstfile.myfunction1()"
   ]
  },
  {
   "cell_type": "code",
   "execution_count": 10,
   "metadata": {},
   "outputs": [
    {
     "name": "stdout",
     "output_type": "stream",
     "text": [
      "두번째 함수\n"
     ]
    }
   ],
   "source": [
    "# 두번째 파일에서 만들어 놓은 myfunction2도 불러올 수 있습니다.\n",
    "secondfile.myfunction2()"
   ]
  },
  {
   "cell_type": "code",
   "execution_count": 13,
   "metadata": {},
   "outputs": [
    {
     "name": "stdout",
     "output_type": "stream",
     "text": [
      "첫번째 함수\n",
      "두번째 함수\n"
     ]
    },
    {
     "data": {
      "text/plain": [
       "(None, None)"
      ]
     },
     "execution_count": 13,
     "metadata": {},
     "output_type": "execute_result"
    }
   ],
   "source": [
    "# 함수 자체를 불러오려면 어떤 식으로 from/import를 형성해야 할까요?\n",
    "\n",
    "from mylibrary.firstfile import myfunction1\n",
    "from mylibrary.secondfile import myfunction2\n",
    "\n",
    "myfunction1(), myfunction2()"
   ]
  },
  {
   "cell_type": "markdown",
   "metadata": {},
   "source": [
    "## --- 정리\n",
    "- 간단히 모듈/라이브러리에 대해서 알아보았습니다.\n",
    "- 거의 모든 코딩을 진행할 때, 모듈 혹은 라이브러리를 쓸일이 있을 겁니다."
   ]
  },
  {
   "cell_type": "markdown",
   "metadata": {},
   "source": [
    "## --- 파이썬 알면 쓸모 있는 함수들"
   ]
  },
  {
   "cell_type": "code",
   "execution_count": 38,
   "metadata": {},
   "outputs": [
    {
     "name": "stdout",
     "output_type": "stream",
     "text": [
      "0\n",
      "2\n",
      "4\n",
      "6\n",
      "8\n"
     ]
    }
   ],
   "source": [
    "# range\n",
    "\n",
    "for i in range(0,10,2) :\n",
    "    print(i)"
   ]
  },
  {
   "cell_type": "code",
   "execution_count": 39,
   "metadata": {},
   "outputs": [
    {
     "name": "stdout",
     "output_type": "stream",
     "text": [
      "0번째 과일입니다.\n",
      "나는 apple를 좋아해요\n",
      "\n",
      "1번째 과일입니다.\n",
      "나는 banana를 좋아해요\n",
      "\n",
      "2번째 과일입니다.\n",
      "나는 kiwi를 좋아해요\n",
      "\n"
     ]
    }
   ],
   "source": [
    "# enumerate\n",
    "\n",
    "for idx, element in enumerate([\"apple\", \"banana\", \"kiwi\"]) :\n",
    "    print(f\"{idx}번째 과일입니다.\")\n",
    "    print(f\"나는 {element}를 좋아해요\\n\")"
   ]
  },
  {
   "cell_type": "code",
   "execution_count": 40,
   "metadata": {},
   "outputs": [
    {
     "name": "stdout",
     "output_type": "stream",
     "text": [
      "apple and train\n",
      "\n",
      "banana and airplane\n",
      "\n",
      "kiwi and car\n",
      "\n"
     ]
    }
   ],
   "source": [
    "# zip\n",
    "myList1 = [\"apple\",\"banana\",\"kiwi\"]\n",
    "myList2 = [\"train\", \"airplane\", \"car\"]\n",
    "\n",
    "for item1, item2 in zip(myList1, myList2) :\n",
    "    print(f\"{item1} and {item2}\\n\")"
   ]
  },
  {
   "cell_type": "code",
   "execution_count": 41,
   "metadata": {},
   "outputs": [
    {
     "data": {
      "text/plain": [
       "[13, 6, 8, 11, 12]"
      ]
     },
     "execution_count": 41,
     "metadata": {},
     "output_type": "execute_result"
    }
   ],
   "source": [
    "# map\n",
    "\n",
    "myList = [10,3,5,8,9]\n",
    "list(map(lambda x : x + 3, myList))"
   ]
  },
  {
   "cell_type": "code",
   "execution_count": 43,
   "metadata": {},
   "outputs": [
    {
     "data": {
      "text/plain": [
       "[13, 6, 8, 11, 12]"
      ]
     },
     "execution_count": 43,
     "metadata": {},
     "output_type": "execute_result"
    }
   ],
   "source": [
    "myList = [10,3,5,8,9]\n",
    "for idx,element in enumerate(myList) :\n",
    "    element += 3\n",
    "    myList[idx] = element\n",
    "myList"
   ]
  },
  {
   "cell_type": "code",
   "execution_count": 44,
   "metadata": {},
   "outputs": [],
   "source": [
    "# 파일 열고 쓰는 open, read, write\n",
    "\n",
    "# 파일 열기\n",
    "with open('mytext.txt', 'w') as f :\n",
    "    f.write(\"안녕, 나는 easy야\")"
   ]
  },
  {
   "cell_type": "code",
   "execution_count": 45,
   "metadata": {},
   "outputs": [],
   "source": [
    "poem = '''\n",
    "나 보기가 역겨워\n",
    "가실 때에는\n",
    "말없이 고이 보내 드리우리다\n",
    "\n",
    "영변에 약산\n",
    "진달래꽃\n",
    "아름 따다 가실 길에 뿌리우리다\n",
    "\n",
    "가시는 걸음걸음\n",
    "놓인 그 꽃을\n",
    "사뿐히 즈려밟고 가시옵소서\n",
    "\n",
    "나 보기가 역겨워\n",
    "가실 때에는\n",
    "죽어도 아니 눈물 흘리우리다\n",
    "'''\n",
    "\n",
    "with open('mytext.txt' ,'w') as f :\n",
    "    f.write(poem)"
   ]
  },
  {
   "cell_type": "code",
   "execution_count": 46,
   "metadata": {},
   "outputs": [
    {
     "name": "stdout",
     "output_type": "stream",
     "text": [
      "\n",
      "나 보기가 역겨워\n",
      "가실 때에는\n",
      "말없이 고이 보내 드리우리다\n",
      "\n",
      "영변에 약산\n",
      "진달래꽃\n",
      "아름 따다 가실 길에 뿌리우리다\n",
      "\n",
      "가시는 걸음걸음\n",
      "놓인 그 꽃을\n",
      "사뿐히 즈려밟고 가시옵소서\n",
      "\n",
      "나 보기가 역겨워\n",
      "가실 때에는\n",
      "죽어도 아니 눈물 흘리우리다\n",
      "\n"
     ]
    }
   ],
   "source": [
    "# 파일 읽기\n",
    "\n",
    "with open('mytext.txt', 'r') as f :\n",
    "    output = f.read()\n",
    "    \n",
    "print(output)"
   ]
  },
  {
   "cell_type": "code",
   "execution_count": 47,
   "metadata": {},
   "outputs": [
    {
     "data": {
      "text/plain": [
       "['\\n',\n",
       " '나 보기가 역겨워\\n',\n",
       " '가실 때에는\\n',\n",
       " '말없이 고이 보내 드리우리다\\n',\n",
       " '\\n',\n",
       " '영변에 약산\\n',\n",
       " '진달래꽃\\n',\n",
       " '아름 따다 가실 길에 뿌리우리다\\n',\n",
       " '\\n',\n",
       " '가시는 걸음걸음\\n',\n",
       " '놓인 그 꽃을\\n',\n",
       " '사뿐히 즈려밟고 가시옵소서\\n',\n",
       " '\\n',\n",
       " '나 보기가 역겨워\\n',\n",
       " '가실 때에는\\n',\n",
       " '죽어도 아니 눈물 흘리우리다\\n']"
      ]
     },
     "execution_count": 47,
     "metadata": {},
     "output_type": "execute_result"
    }
   ],
   "source": [
    "with open('mytext.txt', 'r') as f :\n",
    "    output = f.readlines()\n",
    "output"
   ]
  },
  {
   "cell_type": "markdown",
   "metadata": {},
   "source": [
    "## --- Quiz"
   ]
  },
  {
   "cell_type": "code",
   "execution_count": 1,
   "metadata": {},
   "outputs": [
    {
     "name": "stdout",
     "output_type": "stream",
     "text": [
      "안녕하세요, 저는 Tom이고 40살입니다.\n"
     ]
    }
   ],
   "source": [
    "# Q1. 위에서 작성했던 mymodule의 Person class를 불러와서 인스턴스를 만들어봅시다.\n",
    "# 인스턴스에 들어갈 정보는 다음과 같습니다.\n",
    "# Tom, 40\n",
    "\n",
    "# -- 여기에 코드를 작성해봅시다.\n",
    "\n",
    "from mymodule import Person\n",
    "\n",
    "tom = Person(\"Tom\", 40)\n",
    "tom.hello()\n"
   ]
  }
 ],
 "metadata": {
  "kernelspec": {
   "display_name": "base",
   "language": "python",
   "name": "python3"
  },
  "language_info": {
   "codemirror_mode": {
    "name": "ipython",
    "version": 3
   },
   "file_extension": ".py",
   "mimetype": "text/x-python",
   "name": "python",
   "nbconvert_exporter": "python",
   "pygments_lexer": "ipython3",
   "version": "3.11.5"
  }
 },
 "nbformat": 4,
 "nbformat_minor": 2
}
