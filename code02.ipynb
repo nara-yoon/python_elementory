{
 "cells": [
  {
   "cell_type": "markdown",
   "metadata": {},
   "source": [
    "## function & Class\n",
    "프로그래밍에서 추상적인 개념이자 중요한 요소들인 함수 및 클래스에 대해서 알아봅시다.\n",
    "\n",
    "- 함수 : **정해진 기능**을 수행하는 객체(object)\n",
    "- 클래스 : 특수한 기능 및 성질을 가지는 객체(object)"
   ]
  },
  {
   "cell_type": "markdown",
   "metadata": {},
   "source": [
    "$f(x) = ax^2 + b$\n",
    "\n",
    "$f(x) = x$"
   ]
  },
  {
   "cell_type": "code",
   "execution_count": 5,
   "metadata": {},
   "outputs": [],
   "source": [
    "# object/객체라는 말은 처음에는 이해하기 어렵지만, 일종의 *존재라고 생각하세요.\n",
    "# 객체는 컴퓨터 상에 존재하는 무언가\n",
    "# 객체는 메모리를 가진 모든 것은 객체라고 볼 수 있습니다."
   ]
  },
  {
   "cell_type": "code",
   "execution_count": 3,
   "metadata": {},
   "outputs": [
    {
     "data": {
      "text/plain": [
       "'hello'"
      ]
     },
     "execution_count": 3,
     "metadata": {},
     "output_type": "execute_result"
    }
   ],
   "source": [
    "# 함수는 특정한 기능을 수행해주는 객체라고 보시면 됩니다.\n",
    "# def <함수이름>(<input값들>) :\n",
    "# -- <함수 공간>\n",
    "# -- <함수내 연산>\n",
    "# -- return 값\n",
    "\n",
    "\n",
    "def my_first_function(arg1) : #인자는 몇 개가 들어가든 노상관\n",
    "    '''\n",
    "    이 공간을 docstring이라고 합니다.\n",
    "    나의 첫번째 함수. 받은 값을 반환합니다.\n",
    "    arg1은 input 값입니다. 아무 값이나 받을 수 있습니다.\n",
    "    '''\n",
    "    \n",
    "    # 함수내 지역변수\n",
    "    arg1\n",
    "\n",
    "    return arg1\n",
    "\n",
    "# 아무 값이든 input 해봅시다.\n",
    "my_first_function(\"hello\")"
   ]
  },
  {
   "cell_type": "code",
   "execution_count": 4,
   "metadata": {},
   "outputs": [
    {
     "name": "stdout",
     "output_type": "stream",
     "text": [
      "\u001b[1;31mSignature:\u001b[0m \u001b[0mmy_first_function\u001b[0m\u001b[1;33m(\u001b[0m\u001b[0marg1\u001b[0m\u001b[1;33m)\u001b[0m\u001b[1;33m\u001b[0m\u001b[1;33m\u001b[0m\u001b[0m\n",
      "\u001b[1;31mDocstring:\u001b[0m\n",
      "이 공간을 docstring이라고 합니다.\n",
      "나의 첫번째 함수. 받은 값을 반환합니다.\n",
      "arg1은 input 값입니다. 아무 값이나 받을 수 있습니다.\n",
      "\u001b[1;31mFile:\u001b[0m      c:\\users\\mzk2h\\appdata\\local\\temp\\ipykernel_7024\\2555622206.py\n",
      "\u001b[1;31mType:\u001b[0m      function"
     ]
    }
   ],
   "source": [
    "# 아래와 같이 ?로 설명을 볼 수 있답니다.\n",
    "?my_first_function"
   ]
  },
  {
   "cell_type": "markdown",
   "metadata": {},
   "source": [
    "$ f(x,y) = ax + by + c $"
   ]
  },
  {
   "cell_type": "code",
   "execution_count": 5,
   "metadata": {},
   "outputs": [],
   "source": [
    "# 이번에는 특정한 연산을 해주는 함수를 정의해봅시다.\n",
    "# 양의 정수 2개를 입력해주면 서로 배수인지 아닌지를 반환하는 함수를 만듭시다.\n",
    "# return은 True/False의 boolean으로 합니다.\n",
    "# 먼저 직접 한번 함수를 만들어보세요~\n",
    "\n",
    "def my_second_function(arg1, arg2, arg3) -> bool : #코드는 재사용을 위해 쓰기도 한다. 아웃풋은 화살표를 붙여 쓴다.\n",
    "    '''\n",
    "    나의 두번째 함수.\n",
    "    input은 두개의 숫자\n",
    "    output은 boolean\n",
    "    '''\n",
    "    result = (0 == (arg1 % arg2))\n",
    "    if result :\n",
    "        return True\n",
    "    else :\n",
    "        return False\n"
   ]
  },
  {
   "cell_type": "code",
   "execution_count": 23,
   "metadata": {},
   "outputs": [
    {
     "data": {
      "text/plain": [
       "True"
      ]
     },
     "execution_count": 23,
     "metadata": {},
     "output_type": "execute_result"
    }
   ],
   "source": [
    "# 위에서 정의한 함수를 바탕으로 2,6을 입력해보세요\n",
    "\n",
    "my_second_function(6, 2) "
   ]
  },
  {
   "cell_type": "code",
   "execution_count": 6,
   "metadata": {},
   "outputs": [
    {
     "ename": "TypeError",
     "evalue": "my_second_function() missing 1 required positional argument: 'arg3'",
     "output_type": "error",
     "traceback": [
      "\u001b[1;31m---------------------------------------------------------------------------\u001b[0m",
      "\u001b[1;31mTypeError\u001b[0m                                 Traceback (most recent call last)",
      "Cell \u001b[1;32mIn[6], line 3\u001b[0m\n\u001b[0;32m      1\u001b[0m \u001b[38;5;66;03m# 위에서 정의한 함수를 바탕으로 4, 21을 입력해보세요\u001b[39;00m\n\u001b[1;32m----> 3\u001b[0m my_second_function(\u001b[38;5;241m4\u001b[39m, \u001b[38;5;241m21\u001b[39m)\n",
      "\u001b[1;31mTypeError\u001b[0m: my_second_function() missing 1 required positional argument: 'arg3'"
     ]
    }
   ],
   "source": [
    "# 위에서 정의한 함수를 바탕으로 4, 21을 입력해보세요\n",
    "\n",
    "my_second_function(4, 21)"
   ]
  },
  {
   "cell_type": "code",
   "execution_count": 7,
   "metadata": {},
   "outputs": [],
   "source": [
    "# 세번째 함수는 숫자 리스트를 받아서 그 안에서 최댓값을 반환하는 함수를 만들어봅시다.\n",
    "# 찾는 방법은 다양한데, 지금은 그저 리스트를 for문을 돌면서 가장 큰 값을 업데이트해서 \n",
    "# 마지막에 반환하는 식으로 해봅니다.\n",
    "\n",
    "def find_max_in_list(arg1 : list) :\n",
    "    maxValue = -99999\n",
    "    for element in arg1 : \n",
    "        if element > maxValue :\n",
    "            maxValue = element\n",
    "        else :\n",
    "            pass #그냥 지나감. 사실 pass 말고 continue 라는 예약어를 써도 됨\n",
    "\n",
    "    return maxValue"
   ]
  },
  {
   "cell_type": "code",
   "execution_count": 8,
   "metadata": {},
   "outputs": [
    {
     "data": {
      "text/plain": [
       "37"
      ]
     },
     "execution_count": 8,
     "metadata": {},
     "output_type": "execute_result"
    }
   ],
   "source": [
    "find_max_in_list([1,10,21,23,19,37,33,9,22]) #O(n)과 같은 함수"
   ]
  },
  {
   "cell_type": "markdown",
   "metadata": {},
   "source": []
  },
  {
   "cell_type": "code",
   "execution_count": 27,
   "metadata": {},
   "outputs": [
    {
     "data": {
      "text/plain": [
       "8"
      ]
     },
     "execution_count": 27,
     "metadata": {},
     "output_type": "execute_result"
    }
   ],
   "source": [
    "# 인스턴스 생성 : 일종의 복제라고 생각하시면 됩니다.\n",
    "\n",
    "fun1 = find_max_in_list #레퍼런스가 같은 것이며, 엄밀히 따지면 다름.\n",
    "\n",
    "# 함수의 호출()\n",
    "\n",
    "fun1([5,2,8,7])"
   ]
  },
  {
   "cell_type": "code",
   "execution_count": 28,
   "metadata": {},
   "outputs": [
    {
     "data": {
      "text/plain": [
       "8"
      ]
     },
     "execution_count": 28,
     "metadata": {},
     "output_type": "execute_result"
    }
   ],
   "source": [
    "find_max_in_list([5,2,8,7])"
   ]
  },
  {
   "cell_type": "code",
   "execution_count": 30,
   "metadata": {},
   "outputs": [
    {
     "name": "stdout",
     "output_type": "stream",
     "text": [
      "arg1 and arg2입니다. apple banana\n",
      "여기서는 args를 표현합니다. ('one', 'two')\n",
      "여기서는 kwargs를 표현합니다. {'karg1': 'three', 'karg2': 'four'}\n"
     ]
    }
   ],
   "source": [
    "# function의 argument에 대해서 알아봅시다.\n",
    "# def my_function(arg1, arg2, *args, **kwargs) :\n",
    "# --- 함수 공간\n",
    "# --- args는 정의할 때 인수(arg1, arg2)가 없는 경우에 들어가게 되는 무작위 인수라고 보면 됩니다. 튜플에 저장이 됩니다.\n",
    "# --- kwargs는 정의할 때 인수(arg1, arg2)가 없는 경우에 딱히 정해주고 싶은 local변수를 key값으로 사용하는 인수라고 보면 됩니다.\n",
    "\n",
    "def my_new_function(arg1, arg2, *args, **kwargs) :\n",
    "    print(\"arg1 and arg2입니다.\", arg1, arg2)\n",
    "    print(\"여기서는 args를 표현합니다.\", args)\n",
    "    print(\"여기서는 kwargs를 표현합니다.\", kwargs)\n",
    "    return\n",
    "\n",
    "# 실행후 아래의 output을 해석해봅시다.\n",
    "my_new_function(\"apple\", \"banana\", \n",
    "                \"one\", \"two\", \n",
    "                karg1 = \"three\", karg2 = \"four\")"
   ]
  },
  {
   "cell_type": "code",
   "execution_count": 9,
   "metadata": {},
   "outputs": [
    {
     "name": "stdout",
     "output_type": "stream",
     "text": [
      "this is my args :  {'arg1': 'hello', 'arg2': 'world'}\n"
     ]
    }
   ],
   "source": [
    "def my_new_function(**kwargs) :\n",
    "    print(\"this is my args : \", kwargs)\n",
    "    return\n",
    "\n",
    "my_new_function(arg1=\"hello\",arg2=\"world\")"
   ]
  },
  {
   "cell_type": "code",
   "execution_count": 12,
   "metadata": {},
   "outputs": [
    {
     "data": {
      "text/plain": [
       "4"
      ]
     },
     "execution_count": 12,
     "metadata": {},
     "output_type": "execute_result"
    }
   ],
   "source": [
    "# lambda 함수 (이름이 없는 함수)\n",
    "# lambda 인자1 : 인자1 + 연산 #람다 함수가 빛을 발할 때는? 맵을 쓸 때나 판다스에서. 먼저 선언을 한 함수는 메모리 안에 생성되나, 람다는 계산만 살짝 하고 사라짐.\n",
    "\n",
    "myfunction = lambda x : x + 2\n",
    "myfunction(2)"
   ]
  },
  {
   "cell_type": "code",
   "execution_count": 13,
   "metadata": {},
   "outputs": [
    {
     "data": {
      "text/plain": [
       "4"
      ]
     },
     "execution_count": 13,
     "metadata": {},
     "output_type": "execute_result"
    }
   ],
   "source": [
    "def plus_two(x) :\n",
    "    return x + 2\n",
    "plus_two(2)"
   ]
  },
  {
   "cell_type": "code",
   "execution_count": 14,
   "metadata": {},
   "outputs": [
    {
     "name": "stdout",
     "output_type": "stream",
     "text": [
      "나는 전역변수\n",
      "나는 지역변수\n"
     ]
    }
   ],
   "source": [
    "# 전역 변수 vs 지역 변수\n",
    "#함수 밖의 공간 - 전역 / 클래스 내의 공간 : 지역\n",
    "\n",
    "globalVar = \"나는 전역변수\"\n",
    "global globalVar\n",
    "\n",
    "def somefunction() :\n",
    "    print(globalVar)\n",
    "    localVar = \"나는 지역변수\"\n",
    "    print(localVar)\n",
    "\n",
    "    return\n",
    "\n",
    "somefunction()\n"
   ]
  },
  {
   "cell_type": "code",
   "execution_count": 42,
   "metadata": {},
   "outputs": [
    {
     "name": "stdout",
     "output_type": "stream",
     "text": [
      "존재하지 않는 변수\n"
     ]
    }
   ],
   "source": [
    "# 지역변수는 함수 내에만 존재함\n",
    "try : \n",
    "    localVar\n",
    "except :\n",
    "    print(\"존재하지 않는 변수\")"
   ]
  },
  {
   "cell_type": "code",
   "execution_count": 61,
   "metadata": {},
   "outputs": [
    {
     "name": "stdout",
     "output_type": "stream",
     "text": [
      "initially hello world\n",
      "after modification 5\n",
      "5\n"
     ]
    }
   ],
   "source": [
    "\n",
    "myVariable = \"hello world\"\n",
    "\n",
    "def someFunction() :\n",
    "    global myVariable\n",
    "    print(\"initially\", myVariable)\n",
    "    myVariable = 5\n",
    "    print(\"after modification\", myVariable)\n",
    "    return \n",
    "\n",
    "someFunction()\n",
    "print(myVariable)\n",
    "\n",
    "#전역변수와 지역변수의 값을 수정하면 안 되고, 이름을 각각 다르게 써야 함."
   ]
  },
  {
   "cell_type": "markdown",
   "metadata": {},
   "source": [
    "## -- Class에 대해서\n",
    "- 객체를 만드는 가장 기본적인 요소 (클래스는 이데아 - 인스턴스는 모두 파생)\n",
    "- 이런 상황을 생각해봅시다. 만일 우리가 프로그램 상에서 유저라는 객체를 만들고 싶습니다. \\\n",
    "유저는 여러가지 정보들을 한번에 저장해야 합니다. 예를 들어, 이름(first, last name), 나이, 성별, 전화번호, 이메일을 저장해야 한다고 해봅시다. \\\n",
    "어떻게 저장할 수 있을까요? 먼저 지금까지 배운 것을 생각해보면 딕셔너리를 이용해볼 수 있을 것입니다. 하지만 이는 효율적이지 않습니다. \\\n",
    "왜냐하면, 단순히 정보만 저장하는게 목적이 아니라 여러 연산도 그 안에서 해야 한다면, 딕셔너리로는 역부족이죠."
   ]
  },
  {
   "cell_type": "code",
   "execution_count": 2,
   "metadata": {},
   "outputs": [
    {
     "data": {
      "text/plain": [
       "{'age': 25,\n",
       " 'gender': 'male',\n",
       " 'phone_number': '010-1234-5678',\n",
       " 'email': 'myemail@easy.com'}"
      ]
     },
     "execution_count": 2,
     "metadata": {},
     "output_type": "execute_result"
    }
   ],
   "source": [
    "# 딕셔너리에 나이, 성별, 전화번호, 이메일을 저장해봅시다. \n",
    "\n",
    "user_data = {\"age\" : None,\n",
    "             \"gender\" : None,\n",
    "             \"phone_number\": None,\n",
    "             \"email\" : None}\n",
    "\n",
    "user_data['age'] = 25\n",
    "user_data['gender'] = \"male\"\n",
    "user_data['phone_number'] = \"010-1234-5678\"\n",
    "user_data['email'] = \"myemail@easy.com\"\n",
    "\n",
    "user_data"
   ]
  },
  {
   "cell_type": "code",
   "execution_count": 6,
   "metadata": {},
   "outputs": [],
   "source": [
    "# 만일 우리가 user_data의 이메일을 datascience.com으로 도메인을 수정하고 싶다면?\n",
    "\n",
    "user_data['email'] = user_data['email'].replace(\"easy\", \"datascience\")"
   ]
  },
  {
   "cell_type": "code",
   "execution_count": 8,
   "metadata": {},
   "outputs": [
    {
     "data": {
      "text/plain": [
       "{'age': 25,\n",
       " 'gender': 'male',\n",
       " 'phone_number': '010-1234-5678',\n",
       " 'email': 'myemail@datascience.com'}"
      ]
     },
     "execution_count": 8,
     "metadata": {},
     "output_type": "execute_result"
    }
   ],
   "source": [
    "user_data"
   ]
  },
  {
   "cell_type": "markdown",
   "metadata": {},
   "source": [
    "단점이 있는데, 바로 재사용이 어렵다는 점이죠. 조금 더의 **추상화**가 필요함을 알게 됩니다."
   ]
  },
  {
   "cell_type": "code",
   "execution_count": 9,
   "metadata": {},
   "outputs": [
    {
     "data": {
      "text/plain": [
       "'male'"
      ]
     },
     "execution_count": 9,
     "metadata": {},
     "output_type": "execute_result"
    }
   ],
   "source": [
    "# Class로 정의해봅시다.\n",
    "# class <클래스이름> :\n",
    "# -- 클래스 공간\n",
    "# -- 클래스 변수 정의\n",
    "# -- 여러 메서드(기능)의 정의\n",
    "\n",
    "class User :\n",
    "\n",
    "    # 클래스 변수\n",
    "    age = 25\n",
    "    gender = \"male\"\n",
    "    phone_number = \"010-1234-5678\"\n",
    "    email = \"myemail@easy.com\"\n",
    "\n",
    "user1 = User()\n",
    "user1.gender"
   ]
  },
  {
   "cell_type": "code",
   "execution_count": 15,
   "metadata": {},
   "outputs": [
    {
     "data": {
      "text/plain": [
       "user-class : 25 male 010-1234-5678 myemail@easy.com"
      ]
     },
     "execution_count": 15,
     "metadata": {},
     "output_type": "execute_result"
    }
   ],
   "source": [
    "class User : #클래스\n",
    "\n",
    "    # 생성자(메소드) 함수 --> 인스턴스를 생성할 때 입력값을 바탕으로 객체를 생성합니다. 객체지향 프로그램의 장점- 캐릭터를 만드는 것.(게임 직업군)\n",
    "    def __init__(self, age, gender, phone_number, email) : #매직메소드 : 파이썬 문법이 이미 저장이 되어 있는 메소드함수 #셀프 : 인스턴스 생성할 때 가장 먼저 받는 것이 self. 그래서 첫번쨰 인자는 무조건 self.\n",
    "        self.age : str = age #속성\n",
    "        self.gender : str = gender\n",
    "        self.phone_number : str = phone_number\n",
    "        self.email : str = email\n",
    "    \n",
    "    def send_email(self, to, message) : #기능(메소드)\n",
    "        print(f\"{to}에게 {message}를 보냈습니다.\")\n",
    "        \n",
    "    \n",
    "    # 클래스에 대한 설명\n",
    "    def __repr__(self) :\n",
    "        return f\"user-class : {self.age} {self.gender} {self.phone_number} {self.email}\"\n",
    "\n",
    "\n",
    "user1 = User(age=25, gender=\"male\", phone_number=\"010-1234-5678\", email=\"myemail@easy.com\") \n",
    "user1 #인스턴스가 정의된 다음에는 self는 쓰지 않음!"
   ]
  },
  {
   "cell_type": "code",
   "execution_count": 16,
   "metadata": {},
   "outputs": [
    {
     "data": {
      "text/plain": [
       "(25, 'male', '010-1234-5678')"
      ]
     },
     "execution_count": 16,
     "metadata": {},
     "output_type": "execute_result"
    }
   ],
   "source": [
    "user1.age, user1.gender, user1.phone_number"
   ]
  },
  {
   "cell_type": "code",
   "execution_count": 16,
   "metadata": {},
   "outputs": [
    {
     "data": {
      "text/plain": [
       "user-class : 30 female 010-1000-4000 love@easy.com"
      ]
     },
     "execution_count": 16,
     "metadata": {},
     "output_type": "execute_result"
    }
   ],
   "source": [
    "# 새로운 user를 만들 수도 있습니다.\n",
    "# 재사용성이 좋다고 할 수 있죠.\n",
    "\n",
    "user2 = User(age = 30, gender=\"female\", phone_number=\"010-1000-4000\", email=\"love@easy.com\")\n",
    "user2\n",
    "\n",
    "user_list = [user1, user2]\n",
    "user_list[1]"
   ]
  },
  {
   "cell_type": "code",
   "execution_count": 22,
   "metadata": {},
   "outputs": [
    {
     "name": "stdout",
     "output_type": "stream",
     "text": [
      "user1에게 안녕 친구야, 잘 지내니?를 보냈습니다.\n"
     ]
    }
   ],
   "source": [
    "user2.send_email('user1', \"안녕 친구야, 잘 지내니?\")"
   ]
  },
  {
   "cell_type": "code",
   "execution_count": 27,
   "metadata": {},
   "outputs": [],
   "source": [
    "user2.age = 29"
   ]
  },
  {
   "cell_type": "code",
   "execution_count": 28,
   "metadata": {},
   "outputs": [
    {
     "data": {
      "text/plain": [
       "29"
      ]
     },
     "execution_count": 28,
     "metadata": {},
     "output_type": "execute_result"
    }
   ],
   "source": [
    "user2.age"
   ]
  },
  {
   "cell_type": "markdown",
   "metadata": {},
   "source": [
    "### 이외에도 더 많은 매직메서드가 존재한다.\n",
    "\n",
    "- `__iter__` : iterable한 객체를 만들 때 사용됨.\n",
    "- `__next__` : iterator를 만들때 사용됨. \n",
    "- `__len__` : 객체의 길이를 반환할 때 사용됨\n",
    "- `__str__` : 객체의 문자열을 표현하기 위해서 사용"
   ]
  },
  {
   "cell_type": "markdown",
   "metadata": {},
   "source": [
    "## --- Class 상속(inheritance)\n",
    "- 기존에 생성된 클래스를 상속해서 새로운 클래스를  생성할 수 있다. 게임의 2차 전직"
   ]
  },
  {
   "cell_type": "code",
   "execution_count": 29,
   "metadata": {},
   "outputs": [
    {
     "data": {
      "text/plain": [
       "user-class2 : E.T"
      ]
     },
     "execution_count": 29,
     "metadata": {},
     "output_type": "execute_result"
    }
   ],
   "source": [
    "# 상속을 받는다\n",
    "\n",
    "class User2(User) :\n",
    "\n",
    "    def __init__(self, name, age, gender, phone_number, email) :\n",
    "        super().__init__(age=age, gender=gender, phone_number=phone_number, email=email) #부모클래스 선언\n",
    "        self.name = name #나머지 추가된 정보\n",
    "    \n",
    "    def __repr__(self) :\n",
    "        return f\"user-class2 : {self.name}\"\n",
    "\n",
    "user1 = User2(name=\"E.T\", age=27, gender=\"male\", phone_number=None, email=\"easy2@easy.com\")\n",
    "user1"
   ]
  },
  {
   "cell_type": "code",
   "execution_count": 33,
   "metadata": {},
   "outputs": [
    {
     "name": "stdout",
     "output_type": "stream",
     "text": [
      "user2에게 hello my friend를 보냈습니다.\n"
     ]
    }
   ],
   "source": [
    "user1.send_email(\"user2\", \"hello my friend\")"
   ]
  },
  {
   "cell_type": "code",
   "execution_count": 34,
   "metadata": {},
   "outputs": [],
   "source": [
    "# 만일 user 클래스를 상속받는 클래스를 만들고\n",
    "# 그 정보를 리스트에 담아서 반환하는 기능을 갖도록 만들고 싶다면?\n",
    "# -- 아래에 코드를 작성해봅시다.\n",
    "\n",
    "class User3(User) :\n",
    "\n",
    "    def __init__(self, name, age, gender, phone_number, email) :\n",
    "        super().__init__(age=age, gender=gender, phone_number=phone_number, email=email)\n",
    "        self.name = name\n",
    "    \n",
    "    def __repr__(self) :\n",
    "        return f\"user class : {self.name}\"\n",
    "    \n",
    "    # 아래에 코드를 작성해봅시다.\n",
    "    def return_information(self) :\n",
    "        return [self.name, self.age, self.gender, self.phone_number, self.email]\n"
   ]
  },
  {
   "cell_type": "code",
   "execution_count": 36,
   "metadata": {},
   "outputs": [
    {
     "data": {
      "text/plain": [
       "user class : E.T"
      ]
     },
     "execution_count": 36,
     "metadata": {},
     "output_type": "execute_result"
    }
   ],
   "source": [
    "user1 = User3(name=\"E.T\", age=27, gender=\"male\", phone_number=None, email=\"easy2@easy.com\")\n",
    "user1"
   ]
  },
  {
   "cell_type": "code",
   "execution_count": 37,
   "metadata": {},
   "outputs": [
    {
     "data": {
      "text/plain": [
       "['E.T', 27, 'male', None, 'easy2@easy.com']"
      ]
     },
     "execution_count": 37,
     "metadata": {},
     "output_type": "execute_result"
    }
   ],
   "source": [
    "user1.return_information() #메소드"
   ]
  },
  {
   "cell_type": "code",
   "execution_count": 5,
   "metadata": {},
   "outputs": [
    {
     "name": "stdout",
     "output_type": "stream",
     "text": [
      "나는 지역변수에요 1\n"
     ]
    }
   ],
   "source": [
    "# global/local 정의\n",
    "# 함수내 혹은 클래스 내에서 저장되는 변수를 로컬(지역) 변수라고 합니다.\n",
    "# 그에 반해 어느 위치에서든 호출되어 사용될 수 있는 변수를 글로벌(전역) 변수라고 합니다.\n",
    "\n",
    "myvar = 2\n",
    "def example_function() :\n",
    "    myvar = 1\n",
    "    print(\"나는 지역변수에요\", myvar)\n",
    "    return\n",
    "\n",
    "example_function()"
   ]
  },
  {
   "cell_type": "code",
   "execution_count": 14,
   "metadata": {},
   "outputs": [
    {
     "name": "stdout",
     "output_type": "stream",
     "text": [
      "나는 전역변수에요 2\n"
     ]
    }
   ],
   "source": [
    "# 전역변수로의 선언\n",
    "\n",
    "myvar = 2\n",
    "def example_function() :\n",
    "    # 전역 변수를 가져옵니다.\n",
    "    global myvar\n",
    "    print(\"나는 전역변수에요\", myvar)\n",
    "    return\n",
    "\n",
    "example_function()"
   ]
  },
  {
   "cell_type": "markdown",
   "metadata": {},
   "source": [
    "## --- 정리\n",
    "- 추상화 과정에서의 함수/클래스에 대해서 알아보았습니다.\n",
    "- 함수는 어떤 연산을 추상화한 것이고\n",
    "- 클래스는 어떤 객체, 존재를 추상화한 것"
   ]
  },
  {
   "cell_type": "markdown",
   "metadata": {},
   "source": [
    "## --- Quiz"
   ]
  },
  {
   "cell_type": "code",
   "execution_count": 2,
   "metadata": {},
   "outputs": [
    {
     "data": {
      "text/plain": [
       "<__main__.Table at 0x7b2df108e3d0>"
      ]
     },
     "execution_count": 2,
     "metadata": {},
     "output_type": "execute_result"
    }
   ],
   "source": [
    "# Q1. 여러 행과 열로 구성된 테이블(Table)이라고 하는 클래스를 만들어봅시다.\n",
    "# Table은 원하는만큼 열(column)을 만들 수 있고, 각행마다 사례를 저장할 수 있다고 합시다.\n",
    "# 인스턴스를 만들때, 회원(유저) 인적 정보를 저장할 수 있도록, 이름, 나이, 성별, 전화번호를 저장할 수 있도록 인스턴스를 만들어봅시다.\n",
    "\n",
    "# 객체지향형 프로그래밍 vs 함수형 프로그래밍 (프로그래밍의 철학)\n",
    "\n",
    "class Table :\n",
    "\n",
    "    def __init__(self) :\n",
    "        NotImplementedError\n",
    "\n",
    "mytable = Table()"
   ]
  },
  {
   "cell_type": "code",
   "execution_count": null,
   "metadata": {},
   "outputs": [],
   "source": [
    "# Q2.\n",
    "# 1) 위에서 만든 테이블과 비슷하게, 회원 인적정보인 이름, 나이, 성별, 전화번호를 저장하는 함수를 만들고 \n",
    "# 2) 다음의 사람 정보를 받아 딕셔너리 자료구조에 담아 반환하세요.\n",
    "# 3) <이수지, 32, 여, 010-7777-8888>\n",
    "\n"
   ]
  }
 ],
 "metadata": {
  "kernelspec": {
   "display_name": "base",
   "language": "python",
   "name": "python3"
  },
  "language_info": {
   "codemirror_mode": {
    "name": "ipython",
    "version": 3
   },
   "file_extension": ".py",
   "mimetype": "text/x-python",
   "name": "python",
   "nbconvert_exporter": "python",
   "pygments_lexer": "ipython3",
   "version": "3.11.5"
  }
 },
 "nbformat": 4,
 "nbformat_minor": 2
}
