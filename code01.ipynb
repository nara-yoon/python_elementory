{
 "cells": [
  {
   "cell_type": "markdown",
   "metadata": {},
   "source": [
    "# 파이썬 기본기\n",
    "\n",
    "- 파이썬 시작하는 방법\n",
    "    - Anaconda를 활용한 설치법\n",
    "        - Anaconda \n",
    "        - Miniconda => 우리는 이 방법을 이용할 겁니다.\n",
    "\n",
    "\n",
    "- 파이썬 개발환경 세팅하기\n",
    "    - 라이브러리 설치\n",
    "    ```\n",
    "    !pip3 install ~\n",
    "    ```\n",
    "\n",
    "    ```\n",
    "    $ pip3 install ~\n",
    "    ```\n",
    "- 기본적인 용어정리"
   ]
  },
  {
   "cell_type": "markdown",
   "metadata": {},
   "source": [
    "## Jupyter Notebook 활용법\n",
    "- 셀 종류 \n",
    "    - markdown cell : 기록용 셀\n",
    "    - python cell : python을 실제로 실행하는 셀\n",
    "\n",
    "- 단축키\n",
    "    - `Shift + Enter` : 실행후 다음셀로 이동\n",
    "    - `Ctrl + Enter` : 셀 실행\n",
    "    - `ESC` : escape \n",
    "    - `Enter` : 셀 내 입력"
   ]
  },
  {
   "cell_type": "code",
   "execution_count": 1,
   "metadata": {},
   "outputs": [
    {
     "name": "stdout",
     "output_type": "stream",
     "text": [
      "Requirement already satisfied: pandas in /home/easy/miniconda3/lib/python3.11/site-packages (2.1.4)\n",
      "Requirement already satisfied: numpy in /home/easy/miniconda3/lib/python3.11/site-packages (1.26.3)\n",
      "Requirement already satisfied: matplotlib in /home/easy/miniconda3/lib/python3.11/site-packages (3.8.3)\n",
      "Requirement already satisfied: python-dateutil>=2.8.2 in /home/easy/miniconda3/lib/python3.11/site-packages (from pandas) (2.8.2)\n",
      "Requirement already satisfied: pytz>=2020.1 in /home/easy/miniconda3/lib/python3.11/site-packages (from pandas) (2023.3.post1)\n",
      "Requirement already satisfied: tzdata>=2022.1 in /home/easy/miniconda3/lib/python3.11/site-packages (from pandas) (2023.4)\n",
      "Requirement already satisfied: contourpy>=1.0.1 in /home/easy/miniconda3/lib/python3.11/site-packages (from matplotlib) (1.2.0)\n",
      "Requirement already satisfied: cycler>=0.10 in /home/easy/miniconda3/lib/python3.11/site-packages (from matplotlib) (0.12.1)\n",
      "Requirement already satisfied: fonttools>=4.22.0 in /home/easy/miniconda3/lib/python3.11/site-packages (from matplotlib) (4.49.0)\n",
      "Requirement already satisfied: kiwisolver>=1.3.1 in /home/easy/miniconda3/lib/python3.11/site-packages (from matplotlib) (1.4.5)\n",
      "Requirement already satisfied: packaging>=20.0 in /home/easy/miniconda3/lib/python3.11/site-packages (from matplotlib) (23.1)\n",
      "Requirement already satisfied: pillow>=8 in /home/easy/miniconda3/lib/python3.11/site-packages (from matplotlib) (10.2.0)\n",
      "Requirement already satisfied: pyparsing>=2.3.1 in /home/easy/miniconda3/lib/python3.11/site-packages (from matplotlib) (3.1.1)\n",
      "Requirement already satisfied: six>=1.5 in /home/easy/miniconda3/lib/python3.11/site-packages (from python-dateutil>=2.8.2->pandas) (1.16.0)\n"
     ]
    }
   ],
   "source": [
    "!pip install pandas numpy matplotlib"
   ]
  },
  {
   "cell_type": "code",
   "execution_count": 1,
   "metadata": {},
   "outputs": [
    {
     "name": "stdout",
     "output_type": "stream",
     "text": [
      "Requirement already satisfied: pandas in /home/easy/miniconda3/lib/python3.11/site-packages (2.1.4)\n",
      "Requirement already satisfied: numpy in /home/easy/miniconda3/lib/python3.11/site-packages (1.26.3)\n",
      "Requirement already satisfied: matplotlib in /home/easy/miniconda3/lib/python3.11/site-packages (3.8.3)\n",
      "Requirement already satisfied: python-dateutil>=2.8.2 in /home/easy/miniconda3/lib/python3.11/site-packages (from pandas) (2.8.2)\n",
      "Requirement already satisfied: pytz>=2020.1 in /home/easy/miniconda3/lib/python3.11/site-packages (from pandas) (2023.3.post1)\n",
      "Requirement already satisfied: tzdata>=2022.1 in /home/easy/miniconda3/lib/python3.11/site-packages (from pandas) (2023.4)\n",
      "Requirement already satisfied: contourpy>=1.0.1 in /home/easy/miniconda3/lib/python3.11/site-packages (from matplotlib) (1.2.0)\n",
      "Requirement already satisfied: cycler>=0.10 in /home/easy/miniconda3/lib/python3.11/site-packages (from matplotlib) (0.12.1)\n",
      "Requirement already satisfied: fonttools>=4.22.0 in /home/easy/miniconda3/lib/python3.11/site-packages (from matplotlib) (4.49.0)\n",
      "Requirement already satisfied: kiwisolver>=1.3.1 in /home/easy/miniconda3/lib/python3.11/site-packages (from matplotlib) (1.4.5)\n",
      "Requirement already satisfied: packaging>=20.0 in /home/easy/miniconda3/lib/python3.11/site-packages (from matplotlib) (23.1)\n",
      "Requirement already satisfied: pillow>=8 in /home/easy/miniconda3/lib/python3.11/site-packages (from matplotlib) (10.2.0)\n",
      "Requirement already satisfied: pyparsing>=2.3.1 in /home/easy/miniconda3/lib/python3.11/site-packages (from matplotlib) (3.1.1)\n",
      "Requirement already satisfied: six>=1.5 in /home/easy/miniconda3/lib/python3.11/site-packages (from python-dateutil>=2.8.2->pandas) (1.16.0)\n"
     ]
    }
   ],
   "source": [
    "# 필요한 라이브러리 설치\n",
    "\n",
    "!pip install pandas numpy matplotlib"
   ]
  },
  {
   "cell_type": "code",
   "execution_count": 2,
   "metadata": {},
   "outputs": [
    {
     "name": "stdout",
     "output_type": "stream",
     "text": [
      "hello world\n"
     ]
    }
   ],
   "source": [
    "# 주석처리 \n",
    "\n",
    "# input값을 프린트합니다 : print\n",
    "print(\"hello world\")\n",
    "\n",
    "# input 값을 입력받아 변수로 저장합니다.\n",
    "myName = input(\"Insert your name : \")\n",
    "print(\"your name is : \", myName)"
   ]
  },
  {
   "cell_type": "markdown",
   "metadata": {},
   "source": []
  },
  {
   "cell_type": "code",
   "execution_count": 1,
   "metadata": {},
   "outputs": [],
   "source": [
    "# loading library\n",
    "\n",
    "import pandas as pd\n",
    "import numpy as np"
   ]
  },
  {
   "cell_type": "markdown",
   "metadata": {},
   "source": [
    "## 기초 자료형\n",
    "- 숫자형\n",
    "    - int \n",
    "    - float \n",
    "- 문자형\n",
    "    - str \n",
    "- 불리안\n",
    "    - bool "
   ]
  },
  {
   "cell_type": "code",
   "execution_count": 7,
   "metadata": {},
   "outputs": [
    {
     "data": {
      "text/plain": [
       "(int, float)"
      ]
     },
     "execution_count": 7,
     "metadata": {},
     "output_type": "execute_result"
    }
   ],
   "source": [
    "# 기초 자료형\n",
    "# 숫자형 : int(정수형)\n",
    "# 숫자형 : float(실수형)\n",
    "\n",
    "type(5), type(4.0)\n",
    "# 보면 알지만 숫자는 그대로 입력하면, 파이썬은 그대로 숫자를 숫자로 인식한다"
   ]
  },
  {
   "cell_type": "code",
   "execution_count": 12,
   "metadata": {},
   "outputs": [
    {
     "data": {
      "text/plain": [
       "(424, 424)"
      ]
     },
     "execution_count": 12,
     "metadata": {},
     "output_type": "execute_result"
    }
   ],
   "source": [
    "# 아직 큰 차이는 없지만, 데이터가 차지하는 memory의 크기가 다르다\n",
    "import sys\n",
    "\n",
    "sys.getsizeof(int), sys.getsizeof(float)"
   ]
  },
  {
   "cell_type": "code",
   "execution_count": 13,
   "metadata": {},
   "outputs": [
    {
     "name": "stdout",
     "output_type": "stream",
     "text": [
      "string this is\n"
     ]
    }
   ],
   "source": [
    "# 문자형 \n",
    "# 따옴표 ', \" 로 시작\n",
    "\n",
    "\n",
    "\"this is a string\"\n",
    "print(\"string this is\")\n",
    "\n",
    "# 이것도 자동적으로 파이썬이 따옴표를 이용해서 문자형임을 인식한다."
   ]
  },
  {
   "cell_type": "code",
   "execution_count": 1,
   "metadata": {},
   "outputs": [
    {
     "data": {
      "text/plain": [
       "'이것도 가능합니다'"
      ]
     },
     "execution_count": 1,
     "metadata": {},
     "output_type": "execute_result"
    }
   ],
   "source": [
    "'이것도 가능합니다'"
   ]
  },
  {
   "cell_type": "code",
   "execution_count": 14,
   "metadata": {},
   "outputs": [
    {
     "name": "stdout",
     "output_type": "stream",
     "text": [
      "\n",
      "        진달래꽃\n",
      "\n",
      "        나보기가 역겨워\n",
      "        가실 때에는\n",
      "        죽어도 아니 눈물 흘리오리다.\n",
      "        \n"
     ]
    }
   ],
   "source": [
    "poem = \"\"\"\n",
    "        진달래꽃\n",
    "\n",
    "        나보기가 역겨워\n",
    "        가실 때에는\n",
    "        죽어도 아니 눈물 흘리오리다.\n",
    "        \"\"\"\n",
    "\n",
    "print(poem)"
   ]
  },
  {
   "cell_type": "code",
   "execution_count": 18,
   "metadata": {},
   "outputs": [
    {
     "name": "stdout",
     "output_type": "stream",
     "text": [
      "저의 나이는 10살입니다. 그리고 학생입니다.\n",
      "저의 나이는 10살입니다. 그리고 학생입니다.\n",
      "저의 나이는 10살입니다. 그리고 학생입니다.\n"
     ]
    }
   ],
   "source": [
    "# string format 방법\n",
    "# 1. %d, %s, %f 같은 방법 \n",
    "# 2. .format()\n",
    "# 3. f열 포맷팅\n",
    "\n",
    "\n",
    "# 1. %d, %s, %f\n",
    "# d, f -> 숫자\n",
    "# s -> 문자\n",
    "print(\"저의 나이는 %d살입니다. 그리고 %s입니다.\" % (10, \"학생\"))\n",
    "\n",
    "# 2. .format() \n",
    "print(\"저의 나이는 {}살입니다. 그리고 {}입니다.\".format(10, \"학생\"))\n",
    "\n",
    "# 3. f열 포맷팅\n",
    "age, student = 10, '학생'\n",
    "print(f\"저의 나이는 {age}살입니다. 그리고 {student}입니다.\")"
   ]
  },
  {
   "cell_type": "code",
   "execution_count": 19,
   "metadata": {},
   "outputs": [
    {
     "data": {
      "text/plain": [
       "'저의 나이는 10살입니다. 그리고 학생입니다.'"
      ]
     },
     "execution_count": 19,
     "metadata": {},
     "output_type": "execute_result"
    }
   ],
   "source": [
    "# 저는 개인적으로 2,3번 방식으로 문자열 포맷팅을 할 것을 추천합니다.\n",
    "# format 방법의 다른 방식으로의 이용\n",
    "\n",
    "\"저의 나이는 {age}살입니다. 그리고 {job}입니다.\".format(age=10, job=\"학생\")"
   ]
  },
  {
   "cell_type": "code",
   "execution_count": 20,
   "metadata": {},
   "outputs": [
    {
     "data": {
      "text/plain": [
       "(True, False)"
      ]
     },
     "execution_count": 20,
     "metadata": {},
     "output_type": "execute_result"
    }
   ],
   "source": [
    "# boolean\n",
    "# 참과 거짓을 나타내는 binary type. 예약어. \n",
    "# 모든 데이터 타입은 boolean으로 환원될 수 있다.\n",
    "# 파이썬에서 자동적으로 인식된다. \n",
    "# 따옴표 안 씀. 따옴표 쓰면 무조건 문자열 첫글자 대문자로 써야 함. \n",
    "# 함부로 저 파란색 뜬 것을 바꾸면 안됨. 바꾸는 방법 del\n",
    "\n",
    "\n",
    "True, False"
   ]
  },
  {
   "cell_type": "code",
   "execution_count": 5,
   "metadata": {},
   "outputs": [
    {
     "data": {
      "text/plain": [
       "(True, False)"
      ]
     },
     "execution_count": 5,
     "metadata": {},
     "output_type": "execute_result"
    }
   ],
   "source": [
    "# string의 boolean 형변환\n",
    "bool('hello'), bool('')"
   ]
  },
  {
   "cell_type": "code",
   "execution_count": 22,
   "metadata": {},
   "outputs": [
    {
     "data": {
      "text/plain": [
       "(True, False)"
      ]
     },
     "execution_count": 22,
     "metadata": {},
     "output_type": "execute_result"
    }
   ],
   "source": [
    "# 숫자형의 boolean으로 형변환. 0만 아니면 됨\n",
    "bool(10.0), bool(0)"
   ]
  },
  {
   "cell_type": "code",
   "execution_count": 23,
   "metadata": {},
   "outputs": [
    {
     "data": {
      "text/plain": [
       "(None, NoneType)"
      ]
     },
     "execution_count": 23,
     "metadata": {},
     "output_type": "execute_result"
    }
   ],
   "source": [
    "# 추가적으로 알아두어야 할 자료형\n",
    "# 비어있는 자료형\n",
    "None, type(None)\n"
   ]
  },
  {
   "cell_type": "code",
   "execution_count": 24,
   "metadata": {},
   "outputs": [
    {
     "data": {
      "text/plain": [
       "(KeyError, TabError, NameError, TypeError)"
      ]
     },
     "execution_count": 24,
     "metadata": {},
     "output_type": "execute_result"
    }
   ],
   "source": [
    "# error\n",
    "# 이외의 에러가 더 많이 있다.\n",
    "# 디버깅을 하게 될때 사용하게 되는데, 이런게 있다는 정도만 아시면 됩니다.\n",
    "\n",
    "KeyError, TabError, NameError, TypeError "
   ]
  },
  {
   "cell_type": "code",
   "execution_count": 25,
   "metadata": {},
   "outputs": [
    {
     "ename": "ZeroDivisionError",
     "evalue": "division by zero",
     "output_type": "error",
     "traceback": [
      "\u001b[0;31m---------------------------------------------------------------------------\u001b[0m",
      "\u001b[0;31mZeroDivisionError\u001b[0m                         Traceback (most recent call last)",
      "Cell \u001b[0;32mIn[25], line 1\u001b[0m\n\u001b[0;32m----> 1\u001b[0m \u001b[38;5;241;43m10\u001b[39;49m\u001b[38;5;241;43m/\u001b[39;49m\u001b[38;5;241;43m0\u001b[39;49m\n",
      "\u001b[0;31mZeroDivisionError\u001b[0m: division by zero"
     ]
    }
   ],
   "source": [
    "10/0"
   ]
  },
  {
   "cell_type": "markdown",
   "metadata": {},
   "source": [
    "연산자(operator) :\n",
    "- 아래의 기본적인 연산자들이 있다. \n",
    "- `+`, `-`, `*`, `**`, `/`, `//`, `%` \n",
    "- `==`, `!=`, `>,<, >=, <=`\n",
    "- `=` : 할당연산자"
   ]
  },
  {
   "cell_type": "code",
   "execution_count": 26,
   "metadata": {},
   "outputs": [
    {
     "data": {
      "text/plain": [
       "21"
      ]
     },
     "execution_count": 26,
     "metadata": {},
     "output_type": "execute_result"
    }
   ],
   "source": [
    "# 먼저 숫자형에서 연산자를 사용해봅시다.\n",
    "# 파이썬은 또 연산자를 자동적으로 인식한다.\n",
    "\n",
    "# 덧셈\n",
    "\n",
    "10 + 11"
   ]
  },
  {
   "cell_type": "code",
   "execution_count": 27,
   "metadata": {},
   "outputs": [
    {
     "data": {
      "text/plain": [
       "32"
      ]
     },
     "execution_count": 27,
     "metadata": {},
     "output_type": "execute_result"
    }
   ],
   "source": [
    "# 제곱\n",
    "# 2의 5제곱\n",
    "\n",
    "2 ** 5"
   ]
  },
  {
   "cell_type": "code",
   "execution_count": 29,
   "metadata": {},
   "outputs": [
    {
     "data": {
      "text/plain": [
       "11.0"
      ]
     },
     "execution_count": 29,
     "metadata": {},
     "output_type": "execute_result"
    }
   ],
   "source": [
    "# 나눗셈\n",
    "\n",
    "121 / 11"
   ]
  },
  {
   "cell_type": "code",
   "execution_count": 30,
   "metadata": {},
   "outputs": [
    {
     "data": {
      "text/plain": [
       "11"
      ]
     },
     "execution_count": 30,
     "metadata": {},
     "output_type": "execute_result"
    }
   ],
   "source": [
    "# 몫\n",
    "\n",
    "121 // 11"
   ]
  },
  {
   "cell_type": "code",
   "execution_count": 6,
   "metadata": {},
   "outputs": [
    {
     "data": {
      "text/plain": [
       "1"
      ]
     },
     "execution_count": 6,
     "metadata": {},
     "output_type": "execute_result"
    }
   ],
   "source": [
    "# 나머지 \n",
    "\n",
    "122 % 11"
   ]
  },
  {
   "cell_type": "code",
   "execution_count": 32,
   "metadata": {},
   "outputs": [
    {
     "data": {
      "text/plain": [
       "12.1"
      ]
     },
     "execution_count": 32,
     "metadata": {},
     "output_type": "execute_result"
    }
   ],
   "source": [
    "# 자동적으로 형변환이 일어나기도 한다.\n",
    "# int -> float\n",
    "\n",
    "121 / 10 "
   ]
  },
  {
   "cell_type": "code",
   "execution_count": 33,
   "metadata": {},
   "outputs": [
    {
     "data": {
      "text/plain": [
       "'나는 한국 사람입니다.그리고 충주에 삽니다.'"
      ]
     },
     "execution_count": 33,
     "metadata": {},
     "output_type": "execute_result"
    }
   ],
   "source": [
    "# 문자열에 연산자 이용\n",
    "# 두개의 문자열을 붙일 때 `+` 이용\n",
    "\n",
    "\"나는 한국 사람입니다.\" + \"그리고 충주에 삽니다.\""
   ]
  },
  {
   "cell_type": "code",
   "execution_count": 8,
   "metadata": {},
   "outputs": [
    {
     "data": {
      "text/plain": [
       "'너무 많은데요?너무 많은데요?너무 많은데요?'"
      ]
     },
     "execution_count": 8,
     "metadata": {},
     "output_type": "execute_result"
    }
   ],
   "source": [
    "# `*`으로도 반복할 수 있다.\n",
    "\n",
    "\"너무 많은데요?\" * 3"
   ]
  },
  {
   "cell_type": "code",
   "execution_count": 26,
   "metadata": {},
   "outputs": [
    {
     "ename": "TypeError",
     "evalue": "unsupported operand type(s) for -: 'str' and 'str'",
     "output_type": "error",
     "traceback": [
      "\u001b[1;31m---------------------------------------------------------------------------\u001b[0m",
      "\u001b[1;31mTypeError\u001b[0m                                 Traceback (most recent call last)",
      "Cell \u001b[1;32mIn[26], line 4\u001b[0m\n\u001b[0;32m      1\u001b[0m \u001b[38;5;66;03m# 모든 연산자를 지원하지는 않는다.\u001b[39;00m\n\u001b[0;32m      2\u001b[0m \u001b[38;5;66;03m# -, /, //, %는 지원하지 않는다.\u001b[39;00m\n\u001b[1;32m----> 4\u001b[0m \u001b[38;5;124m\"\u001b[39m\u001b[38;5;124m나는 한국 사람입니다\u001b[39m\u001b[38;5;124m\"\u001b[39m \u001b[38;5;241m-\u001b[39m \u001b[38;5;124m\"\u001b[39m\u001b[38;5;124m한국\u001b[39m\u001b[38;5;124m\"\u001b[39m\n",
      "\u001b[1;31mTypeError\u001b[0m: unsupported operand type(s) for -: 'str' and 'str'"
     ]
    }
   ],
   "source": [
    "# 모든 연산자를 지원하지는 않는다.\n",
    "# -, /, //, %는 지원하지 않는다.\n",
    "\n",
    "\"나는 한국 사람입니다\" - \"한국\""
   ]
  },
  {
   "cell_type": "code",
   "execution_count": 36,
   "metadata": {},
   "outputs": [
    {
     "name": "stdout",
     "output_type": "stream",
     "text": [
      "우선선위 명시 2.727272727272727\n",
      "우선순위 명시하지 않을 경우 11.818181818181818\n"
     ]
    }
   ],
   "source": [
    "# 여러 단계를 거치는 복합 연산은 ()을 통해서 우선순위를 명시한다.\n",
    "\n",
    "print(\"우선선위 명시\", (10+20) / 11)\n",
    "print(\"우선순위 명시하지 않을 경우\", 10 + 20 / 11)"
   ]
  },
  {
   "cell_type": "code",
   "execution_count": 37,
   "metadata": {},
   "outputs": [
    {
     "data": {
      "text/plain": [
       "True"
      ]
     },
     "execution_count": 37,
     "metadata": {},
     "output_type": "execute_result"
    }
   ],
   "source": [
    "# 비교연산자\n",
    "# 비교를 위한 연산자. \n",
    "# 기본연산자보다 우선순위가 더 낮은 연산자\n",
    "# 비교연산은 불리안. =는 할당\n",
    "\n",
    "10 == 10\n",
    "\n",
    "10 != 10 + 2 # 비교연산을 마지막에 함 .불안하면 먼저 계산해야 할 것에 괄호 치자"
   ]
  },
  {
   "cell_type": "code",
   "execution_count": 38,
   "metadata": {},
   "outputs": [
    {
     "data": {
      "text/plain": [
       "(False, True)"
      ]
     },
     "execution_count": 38,
     "metadata": {},
     "output_type": "execute_result"
    }
   ],
   "source": [
    "# boolean으로 반환되는 것을 확인할 수 있다. \n",
    "\n",
    "20 < 10, 20 <= 20 "
   ]
  },
  {
   "cell_type": "code",
   "execution_count": 39,
   "metadata": {},
   "outputs": [
    {
     "name": "stdout",
     "output_type": "stream",
     "text": [
      "내 변수는 이것이다.  10\n"
     ]
    }
   ],
   "source": [
    "# 할당 연산자\n",
    "# 변수에 자료형을 할당해봅시다.\n",
    "\n",
    "myvariable = 10\n",
    "print(\"내 변수는 이것이다. \", myvariable)"
   ]
  },
  {
   "cell_type": "code",
   "execution_count": 9,
   "metadata": {},
   "outputs": [
    {
     "data": {
      "text/plain": [
       "1000"
      ]
     },
     "execution_count": 9,
     "metadata": {},
     "output_type": "execute_result"
    }
   ],
   "source": [
    "# 할당연산자는 다른 숫자연산자와 같이 쓰일 수도 있다.\n",
    "\n",
    "# 덧셈\n",
    "myvar = 0\n",
    "# myvar = myvar + 10\n",
    "myvar += 10 # myvar = myvar + 10과 같음 (원래 있는 값에 10을 더함)\n",
    "\n",
    "myvar **= 3 # myvar = myvar**3 과 같음\n",
    "myvar"
   ]
  },
  {
   "cell_type": "code",
   "execution_count": 10,
   "metadata": {},
   "outputs": [
    {
     "data": {
      "text/plain": [
       "9"
      ]
     },
     "execution_count": 10,
     "metadata": {},
     "output_type": "execute_result"
    }
   ],
   "source": [
    "a = 1\n",
    "b = 2\n",
    "sum([a+b])*3"
   ]
  },
  {
   "cell_type": "markdown",
   "metadata": {},
   "source": [
    "# 변수\n",
    "- 값을 저장하고 있는 것, 변수, 인스턴스 \n",
    "- 변수가 될 수 없는 것 **예약어**\n",
    "    - 예약어란 : \n",
    "        예약어는 프로그래밍 언어에서 이미 사용하기로 약속한 단어\n",
    "        - e.g. `input, print, import, as, for, while, ...`"
   ]
  },
  {
   "cell_type": "code",
   "execution_count": 27,
   "metadata": {},
   "outputs": [
    {
     "name": "stdout",
     "output_type": "stream",
     "text": [
      "변수\n"
     ]
    }
   ],
   "source": [
    "var = \"변수\"\n",
    "print(var)\n",
    "\n",
    "#프로그래밍에서는 오른쪽에서 왼쪽으로 읽는다고 보면 됨\n",
    "#변수를 만들 때 절대 앞글자가 특수기호나 숫자가 될 수 없음. 영문 앞글자가 온다."
   ]
  },
  {
   "cell_type": "code",
   "execution_count": null,
   "metadata": {},
   "outputs": [],
   "source": [
    "- 카멜케이스를 보고 변수라는 것을 알 수 있음."
   ]
  },
  {
   "cell_type": "code",
   "execution_count": 14,
   "metadata": {},
   "outputs": [
    {
     "name": "stdout",
     "output_type": "stream",
     "text": [
      "123\n"
     ]
    }
   ],
   "source": [
    "# 변수는 담는 정보가 바뀔 수 있다.\n",
    "var = 123\n",
    "print(var)"
   ]
  },
  {
   "cell_type": "code",
   "execution_count": 20,
   "metadata": {},
   "outputs": [
    {
     "name": "stdout",
     "output_type": "stream",
     "text": [
      "hello world\n"
     ]
    }
   ],
   "source": [
    "myVar = \"hello world\"\n",
    "print(myVar)"
   ]
  },
  {
   "cell_type": "code",
   "execution_count": 25,
   "metadata": {},
   "outputs": [
    {
     "ename": "SyntaxError",
     "evalue": "invalid syntax (2701819724.py, line 2)",
     "output_type": "error",
     "traceback": [
      "\u001b[1;36m  Cell \u001b[1;32mIn[25], line 2\u001b[1;36m\u001b[0m\n\u001b[1;33m    import = \"hi\"\u001b[0m\n\u001b[1;37m           ^\u001b[0m\n\u001b[1;31mSyntaxError\u001b[0m\u001b[1;31m:\u001b[0m invalid syntax\n"
     ]
    }
   ],
   "source": [
    "# 예약어는 변수로 이용할 수 없고, 해서도 안된다.\n",
    "import = \"hi\""
   ]
  },
  {
   "cell_type": "code",
   "execution_count": 22,
   "metadata": {},
   "outputs": [
    {
     "ename": "TypeError",
     "evalue": "'str' object is not callable",
     "output_type": "error",
     "traceback": [
      "\u001b[0;31m---------------------------------------------------------------------------\u001b[0m",
      "\u001b[0;31mTypeError\u001b[0m                                 Traceback (most recent call last)",
      "Cell \u001b[0;32mIn[22], line 5\u001b[0m\n\u001b[1;32m      1\u001b[0m \u001b[38;5;66;03m# 예약어는 아니지만, 일반적으로 쓰이는 함수들도 오버라이드 할 수 있는데\u001b[39;00m\n\u001b[1;32m      2\u001b[0m \u001b[38;5;66;03m# 이는 추후 문제가 될 수 있다. \u001b[39;00m\n\u001b[1;32m      4\u001b[0m \u001b[38;5;28mprint\u001b[39m \u001b[38;5;241m=\u001b[39m \u001b[38;5;124m\"\u001b[39m\u001b[38;5;124mhello world\u001b[39m\u001b[38;5;124m\"\u001b[39m\n\u001b[0;32m----> 5\u001b[0m \u001b[38;5;28;43mprint\u001b[39;49m\u001b[43m(\u001b[49m\u001b[38;5;124;43m\"\u001b[39;49m\u001b[38;5;124;43mhello world!\u001b[39;49m\u001b[38;5;124;43m\"\u001b[39;49m\u001b[43m)\u001b[49m\n",
      "\u001b[0;31mTypeError\u001b[0m: 'str' object is not callable"
     ]
    }
   ],
   "source": [
    "# 예약어는 아r니지만, 일반적으로 쓰이는 함수들도 오버라이드 할 수 있는데\n",
    "# 이는 추후 문제가 될 수 있다. \n",
    "\n",
    "print = \"hello world\"\n",
    "print(\"hello world!\")"
   ]
  },
  {
   "cell_type": "code",
   "execution_count": 24,
   "metadata": {},
   "outputs": [
    {
     "data": {
      "text/plain": [
       "str"
      ]
     },
     "execution_count": 24,
     "metadata": {},
     "output_type": "execute_result"
    }
   ],
   "source": [
    "type(print)"
   ]
  },
  {
   "cell_type": "code",
   "execution_count": 25,
   "metadata": {},
   "outputs": [],
   "source": [
    "del print"
   ]
  },
  {
   "cell_type": "code",
   "execution_count": 26,
   "metadata": {},
   "outputs": [
    {
     "name": "stdout",
     "output_type": "stream",
     "text": [
      "hello world\n"
     ]
    }
   ],
   "source": [
    "print(\"hello world\")"
   ]
  },
  {
   "cell_type": "markdown",
   "metadata": {},
   "source": [
    "## 자료구조\n",
    "- 자료형들을 모으는 방법, 자료를 구성하는 방법\n",
    "- 리스트, 튜플, 딕셔너리"
   ]
  },
  {
   "cell_type": "code",
   "execution_count": 12,
   "metadata": {},
   "outputs": [
    {
     "data": {
      "text/plain": [
       "[]"
      ]
     },
     "execution_count": 12,
     "metadata": {},
     "output_type": "execute_result"
    }
   ],
   "source": [
    "# 리스트\n",
    "# 가장 기초적인 자료구조, array라고도 불린다. \n",
    "\n",
    "# 아래처럼 선언할 수 있다.\n",
    "myList = list()\n",
    "myList # 현재는 비어있다. "
   ]
  },
  {
   "cell_type": "code",
   "execution_count": 13,
   "metadata": {},
   "outputs": [
    {
     "data": {
      "text/plain": [
       "[]"
      ]
     },
     "execution_count": 13,
     "metadata": {},
     "output_type": "execute_result"
    }
   ],
   "source": [
    "myList = [] # 이와 같이 선언해도 파이썬은 제대로 인식한다.\n",
    "myList"
   ]
  },
  {
   "cell_type": "code",
   "execution_count": 14,
   "metadata": {},
   "outputs": [
    {
     "data": {
      "text/plain": [
       "[1, 2, 3, 'apple', 'tree']"
      ]
     },
     "execution_count": 14,
     "metadata": {},
     "output_type": "execute_result"
    }
   ],
   "source": [
    "myList = [1,2,3,'apple','tree']\n",
    "myList"
   ]
  },
  {
   "cell_type": "code",
   "execution_count": 8,
   "metadata": {},
   "outputs": [
    {
     "data": {
      "text/plain": [
       "[1, 2, 3, 'apple', 'tree', 'orange']"
      ]
     },
     "execution_count": 8,
     "metadata": {},
     "output_type": "execute_result"
    }
   ],
   "source": [
    "# 리스트의 특징\n",
    "# 1. 추가, 삭제를 할 수 있다.\n",
    "\n",
    "myList = [1,2,3,'apple','tree']\n",
    "myList\n",
    "\n",
    "myList.append('orange')\n",
    "myList"
   ]
  },
  {
   "cell_type": "code",
   "execution_count": 9,
   "metadata": {},
   "outputs": [
    {
     "data": {
      "text/plain": [
       "[1, 2, 3, 'apple', 'tree']"
      ]
     },
     "execution_count": 9,
     "metadata": {},
     "output_type": "execute_result"
    }
   ],
   "source": [
    "# remove 를 이용한 제거 \n",
    "# 순서상 가장 앞단에 있는 것부터 지움.\n",
    "\n",
    "myList.remove('orange')\n",
    "myList"
   ]
  },
  {
   "cell_type": "code",
   "execution_count": 13,
   "metadata": {},
   "outputs": [
    {
     "data": {
      "text/plain": [
       "(1, 'tree')"
      ]
     },
     "execution_count": 13,
     "metadata": {},
     "output_type": "execute_result"
    }
   ],
   "source": [
    "# 리스트는 각 순서에 따라 인덱싱 가능\n",
    "# 리스트의 인덱스는 0부터 시작해서 오른쪽으로 이동 \n",
    "\n",
    "myList[0], myList[3]"
   ]
  },
  {
   "cell_type": "code",
   "execution_count": 14,
   "metadata": {},
   "outputs": [
    {
     "data": {
      "text/plain": [
       "[1, 2, 3, 'tree', 'apple']"
      ]
     },
     "execution_count": 14,
     "metadata": {},
     "output_type": "execute_result"
    }
   ],
   "source": [
    "myList"
   ]
  },
  {
   "cell_type": "code",
   "execution_count": 19,
   "metadata": {},
   "outputs": [
    {
     "data": {
      "text/plain": [
       "([3, 'apple', 'tree'], [3, 'apple', 'tree'])"
      ]
     },
     "execution_count": 19,
     "metadata": {},
     "output_type": "execute_result"
    }
   ],
   "source": [
    "# :을 이용해서 구간을 인덱싱 할 수 있다.\n",
    "\n",
    "myList[2:5], myList[2:]"
   ]
  },
  {
   "cell_type": "code",
   "execution_count": 22,
   "metadata": {},
   "outputs": [
    {
     "data": {
      "text/plain": [
       "()"
      ]
     },
     "execution_count": 22,
     "metadata": {},
     "output_type": "execute_result"
    }
   ],
   "source": [
    "# 튜플\n",
    "# 리스트와 비슷하지만, 새로운 자료를 추가하거나 삭제할 수 없다.\n",
    "# 그러므로 튜플은 처음에 이미 필요한 자료형들을 채운 상태에서 사용돼야 한다.\n",
    "# 인공지능 머신러닝 시킬 때 이미 정해진 명령어가 있을 때\n",
    "\n",
    "myTuple = tuple()\n",
    "myTuple"
   ]
  },
  {
   "cell_type": "code",
   "execution_count": 20,
   "metadata": {},
   "outputs": [
    {
     "data": {
      "text/plain": [
       "('삼성', '애플', 'LG')"
      ]
     },
     "execution_count": 20,
     "metadata": {},
     "output_type": "execute_result"
    }
   ],
   "source": [
    "# ()를 이용하면 자동적으로 파이썬에서 튜플로 인식합니다.\n",
    "myTuple = (\"삼성\",\"애플\",\"LG\")\n",
    "myTuple"
   ]
  },
  {
   "cell_type": "code",
   "execution_count": 30,
   "metadata": {},
   "outputs": [
    {
     "ename": "IndexError",
     "evalue": "tuple index out of range",
     "output_type": "error",
     "traceback": [
      "\u001b[1;31m---------------------------------------------------------------------------\u001b[0m",
      "\u001b[1;31mIndexError\u001b[0m                                Traceback (most recent call last)",
      "Cell \u001b[1;32mIn[30], line 2\u001b[0m\n\u001b[0;32m      1\u001b[0m \u001b[38;5;66;03m# 리스트와 동일하게 인덱싱이 가능합니다.\u001b[39;00m\n\u001b[1;32m----> 2\u001b[0m myTuple[\u001b[38;5;241m0\u001b[39m]\n\u001b[0;32m      4\u001b[0m myTuple[\u001b[38;5;241m1\u001b[39m:]\n",
      "\u001b[1;31mIndexError\u001b[0m: tuple index out of range"
     ]
    }
   ],
   "source": [
    "# 리스트와 동일하게 인덱싱이 가능합니다.\n",
    "myTuple[0]\n",
    "\n",
    "myTuple[1:]"
   ]
  },
  {
   "cell_type": "code",
   "execution_count": 25,
   "metadata": {},
   "outputs": [
    {
     "data": {
      "text/plain": [
       "{}"
      ]
     },
     "execution_count": 25,
     "metadata": {},
     "output_type": "execute_result"
    }
   ],
   "source": [
    "# 딕셔너리 = 금고\n",
    "# 여러 키, 밸류 값으로 구성된 데이터 구조\n",
    "# 키는 반복할 수 없음. \n",
    "# {key : value}\n",
    "\n",
    "myDict = dict()\n",
    "myDict"
   ]
  },
  {
   "cell_type": "code",
   "execution_count": 34,
   "metadata": {},
   "outputs": [
    {
     "data": {
      "text/plain": [
       "{'name': 'easydifficult', 'age': 50, 'gender': 'Male'}"
      ]
     },
     "execution_count": 34,
     "metadata": {},
     "output_type": "execute_result"
    }
   ],
   "source": [
    "myDict = {\"name\" : \"easy\" \"difficult\", \"age\" : 50, \"gender\" : \"Male\"}\n",
    "myDict"
   ]
  },
  {
   "cell_type": "code",
   "execution_count": 35,
   "metadata": {},
   "outputs": [],
   "source": [
    "myDict[\"weight\"] = 60"
   ]
  },
  {
   "cell_type": "code",
   "execution_count": 36,
   "metadata": {},
   "outputs": [
    {
     "data": {
      "text/plain": [
       "60"
      ]
     },
     "execution_count": 36,
     "metadata": {},
     "output_type": "execute_result"
    }
   ],
   "source": [
    "myDict['weight']"
   ]
  },
  {
   "cell_type": "code",
   "execution_count": 40,
   "metadata": {},
   "outputs": [
    {
     "data": {
      "text/plain": [
       "dict_keys(['name', 'age', 'gender', 'weight'])"
      ]
     },
     "execution_count": 40,
     "metadata": {},
     "output_type": "execute_result"
    }
   ],
   "source": [
    "myDict.values()\n",
    "myDict.keys()"
   ]
  },
  {
   "cell_type": "markdown",
   "metadata": {},
   "source": [
    "## 제어문\n",
    "- if else / for / while"
   ]
  },
  {
   "cell_type": "code",
   "execution_count": 42,
   "metadata": {},
   "outputs": [
    {
     "name": "stdout",
     "output_type": "stream",
     "text": [
      "10과 5 사이\n"
     ]
    }
   ],
   "source": [
    "# 선언문들에 대해서 배워봅시다.\n",
    "# 조건문, 반복문\n",
    "# if elif else \n",
    "# if <조건> :\n",
    "#   -- 연산\n",
    "# elif <조건> :\n",
    "#   -- 연산\n",
    "# else :\n",
    "#   -- 연산\n",
    "\n",
    "#if와 else는 한번만 쓸 수 있지만 elif는 여러번 사용 가능\n",
    "\n",
    "mynum = 8\n",
    "if mynum > 10 :\n",
    "    print(\"10보다 큼\")\n",
    "\n",
    "elif (mynum <= 10) & (mynum > 5) :\n",
    "    print(\"10과 5 사이\")\n",
    "\n",
    "else :\n",
    "    print('5보다 작음')"
   ]
  },
  {
   "cell_type": "code",
   "execution_count": 43,
   "metadata": {},
   "outputs": [
    {
     "name": "stdout",
     "output_type": "stream",
     "text": [
      "5보다 작음\n"
     ]
    }
   ],
   "source": [
    "# 삼항연산\n",
    "# 한줄에 바로 연산을 진행\n",
    "# <True일때 반환값> if <조건> else <False일때 반환값> 가로로 쓸 때 elif는 못씀\n",
    "\n",
    "mynum = 4\n",
    "var = \"5보다 큼\" if mynum > 5 else \"5보다 작음\"\n",
    "print(var)"
   ]
  },
  {
   "cell_type": "code",
   "execution_count": 47,
   "metadata": {},
   "outputs": [
    {
     "name": "stdout",
     "output_type": "stream",
     "text": [
      "this is myvar : 0\n",
      "this is myvar : 1\n",
      "this is myvar : 2\n",
      "this is myvar : 3\n",
      "this is myvar : 4\n",
      "iteration finished!\n"
     ]
    }
   ],
   "source": [
    "# for loop 언제까지 반복해야하는지 아는 경우 쓴다.\n",
    "# for <반복문내변수> in <반복가능객체:iterable(모음집=for문의 자료구조)> :\n",
    "# 객채=프로그램 상 존재하는 모든 것\n",
    "#   ----\n",
    "#   ----반복문 내 연산\n",
    "#   ----\n",
    "for myvar in [0, 1, 2, 3, 4] :\n",
    "    print(f\"this is myvar : {myvar}\")\n",
    "\n",
    "print(\"iteration finished!\")"
   ]
  },
  {
   "cell_type": "code",
   "execution_count": 60,
   "metadata": {},
   "outputs": [
    {
     "ename": "SyntaxError",
     "evalue": "invalid syntax (268374164.py, line 2)",
     "output_type": "error",
     "traceback": [
      "\u001b[1;36m  Cell \u001b[1;32mIn[60], line 2\u001b[1;36m\u001b[0m\n\u001b[1;33m    for (char) \"helloworld\" in\u001b[0m\n\u001b[1;37m               ^\u001b[0m\n\u001b[1;31mSyntaxError\u001b[0m\u001b[1;31m:\u001b[0m invalid syntax\n"
     ]
    }
   ],
   "source": [
    "\"hello\"+\"world\"\n",
    "for (char) \"helloworld\" in"
   ]
  },
  {
   "cell_type": "code",
   "execution_count": null,
   "metadata": {},
   "outputs": [],
   "source": [
    "# iterable -> 반복 가능객체\n",
    "# 대표적 iterable : list, dictionary, tuple"
   ]
  },
  {
   "cell_type": "code",
   "execution_count": 51,
   "metadata": {},
   "outputs": [
    {
     "name": "stdout",
     "output_type": "stream",
     "text": [
      "the counter is  0\n",
      "the counter is  1\n",
      "the counter is  2\n",
      "the counter is  3\n",
      "the counter is  4\n",
      "the counter is  5\n",
      "the counter is  6\n",
      "the counter is  7\n",
      "the counter is  8\n",
      "the counter is  9\n",
      "the counter is  10\n",
      "탈출!\n"
     ]
    }
   ],
   "source": [
    "# while문\n",
    "# 무한 반복되는 반복문\n",
    "# while <조건> :\n",
    "# -- 반복문 내 연산\n",
    "\n",
    "flag = True\n",
    "counter = 0\n",
    "while flag :\n",
    "    if counter == 10 :\n",
    "        # break\n",
    "        flag = False\n",
    "    print(\"the counter is \", counter)\n",
    "    counter += 1 # counter = counter + 1\n",
    "print(\"탈출!\")"
   ]
  },
  {
   "cell_type": "code",
   "execution_count": 55,
   "metadata": {},
   "outputs": [
    {
     "name": "stdout",
     "output_type": "stream",
     "text": [
      "there was an error\n"
     ]
    }
   ],
   "source": [
    "# Try except 문 (방어코딩)\n",
    "# Error가 발생하는 것을 염두해 사용할 수 있는 제어문\n",
    "\n",
    "try : \n",
    "    myList = [10, 2, 3, 0, 1]\n",
    "    result = 0\n",
    "    for element in myList :\n",
    "        result += 5 / element\n",
    "\n",
    "except :\n",
    "    print(\"there was an error\")"
   ]
  },
  {
   "cell_type": "code",
   "execution_count": 56,
   "metadata": {},
   "outputs": [
    {
     "ename": "ZeroDivisionError",
     "evalue": "division by zero",
     "output_type": "error",
     "traceback": [
      "\u001b[1;31m---------------------------------------------------------------------------\u001b[0m",
      "\u001b[1;31mZeroDivisionError\u001b[0m                         Traceback (most recent call last)",
      "Cell \u001b[1;32mIn[56], line 4\u001b[0m\n\u001b[0;32m      2\u001b[0m result \u001b[38;5;241m=\u001b[39m \u001b[38;5;241m0\u001b[39m\n\u001b[0;32m      3\u001b[0m \u001b[38;5;28;01mfor\u001b[39;00m element \u001b[38;5;129;01min\u001b[39;00m myList :\n\u001b[1;32m----> 4\u001b[0m     result \u001b[38;5;241m+\u001b[39m\u001b[38;5;241m=\u001b[39m \u001b[38;5;241m5\u001b[39m \u001b[38;5;241m/\u001b[39m element\n",
      "\u001b[1;31mZeroDivisionError\u001b[0m: division by zero"
     ]
    }
   ],
   "source": [
    "myList = [10, 2, 3, 0, 1]\n",
    "result = 0\n",
    "for element in myList :\n",
    "    result += 5 / element"
   ]
  },
  {
   "cell_type": "code",
   "execution_count": 59,
   "metadata": {},
   "outputs": [
    {
     "name": "stdout",
     "output_type": "stream",
     "text": [
      "result is  9.666666666666668\n",
      "여기는 항상 실행됩니다.\n"
     ]
    }
   ],
   "source": [
    "# Try Except문은\n",
    "# Try Except, Else까지 같이 쓰는 경우가 있습니다.\n",
    "# else문은 except가 실행되지 않으면 항상 실행됩니다.\n",
    "\n",
    "try : \n",
    "    myList = [10, 2, 3, 1]\n",
    "    result = 0\n",
    "    for element in myList :\n",
    "        result += 5 / element\n",
    "\n",
    "except :\n",
    "    print(\"ZeroDivisionError\")\n",
    "\n",
    "else :\n",
    "    print(\"result is \", result)\n",
    "\n",
    "finally :\n",
    "    print(\"여기는 항상 실행됩니다.\")"
   ]
  },
  {
   "cell_type": "markdown",
   "metadata": {},
   "source": [
    "## 요약\n",
    "- 자료형\n",
    "- 자료구조\n",
    "- 제어문(조건문/반복문)\n",
    "\n",
    "꼭 복습을 하시고, 위의 코드들을 이해해보고, 직접 치시면서 익히시기 바랍니다. 프로그래밍은 기술(technique)이기도 합니다. 연습을 하셔야, 시도를 해야 늡니다."
   ]
  },
  {
   "cell_type": "markdown",
   "metadata": {},
   "source": [
    "## 연습문제"
   ]
  },
  {
   "cell_type": "code",
   "execution_count": null,
   "metadata": {},
   "outputs": [],
   "source": [
    "# Quiz 1\n",
    "# 숫자를 변수에 저장하고, 저장한 변수가 조건에 부합하는지 확인해보세요.\n",
    "# 조건 : 숫자의 type이 int/float인지 판단하고 int면 True 아니면 False를 print하게 하십시오\n",
    "\n",
    "# --- 여기에 코딩을 하십시오"
   ]
  },
  {
   "cell_type": "code",
   "execution_count": 61,
   "metadata": {},
   "outputs": [
    {
     "name": "stdout",
     "output_type": "stream",
     "text": [
      "True\n"
     ]
    }
   ],
   "source": [
    "# 숫자를 변수에 저장합니다\n",
    "number = 42\n",
    "\n",
    "# 변수의 타입이 int인지 확인하고 결과를 출력합니다\n",
    "print(isinstance(number, int))\n"
   ]
  },
  {
   "cell_type": "code",
   "execution_count": null,
   "metadata": {},
   "outputs": [],
   "source": [
    "# Quiz 2 \n",
    "# 숫자를 변수에 저장하고, 저장한 변수가 7의 배수라면 3의 배수인지 판단하고 yes이면 '3과 7의 배수입니다'를 프린트하게 하십시오\n",
    "# 그렇지 않다면, 7의 배수이기만 하면 '7의 배수입니다'를 프린트하고, 둘다 아니라면 '3과 7의 배수가 아닙니다'를 프린트하게 하십시오\n",
    "\n",
    "# --- 여기에 코딩을 하십시오"
   ]
  },
  {
   "cell_type": "code",
   "execution_count": null,
   "metadata": {},
   "outputs": [],
   "source": [
    "# Quiz 3\n",
    "# 반복문을 10번 돌리면서 튜플에 유저가 입력하는 숫자값들을 차례차례 저장하고,\n",
    "# 그 중에서 2번째에 입력된 값과 7번째에 입력한 값들의 합을 프린트해보십시오.\n",
    "\n",
    "# --- 여기에 코딩을 하십시오"
   ]
  }
 ],
 "metadata": {
  "kernelspec": {
   "display_name": "base",
   "language": "python",
   "name": "python3"
  },
  "language_info": {
   "codemirror_mode": {
    "name": "ipython",
    "version": 3
   },
   "file_extension": ".py",
   "mimetype": "text/x-python",
   "name": "python",
   "nbconvert_exporter": "python",
   "pygments_lexer": "ipython3",
   "version": "3.11.5"
  }
 },
 "nbformat": 4,
 "nbformat_minor": 2
}
